{
 "cells": [
  {
   "cell_type": "code",
   "execution_count": 1,
   "metadata": {},
   "outputs": [
    {
     "name": "stdout",
     "output_type": "stream",
     "text": [
      "Uploaded void_103.npy, temperature to MongoDB\n",
      "Uploaded void_103.npy, pressure to MongoDB\n",
      "Uploaded void_103.npy, microstructure to MongoDB\n",
      "Uploaded void_103.npy, velocity_x to MongoDB\n",
      "Uploaded void_103.npy, velocity_y to MongoDB\n",
      "Uploaded void_102.npy, temperature to MongoDB\n",
      "Uploaded void_102.npy, pressure to MongoDB\n",
      "Uploaded void_102.npy, microstructure to MongoDB\n",
      "Uploaded void_102.npy, velocity_x to MongoDB\n",
      "Uploaded void_102.npy, velocity_y to MongoDB\n",
      "Uploaded void_100.npy, temperature to MongoDB\n",
      "Uploaded void_100.npy, pressure to MongoDB\n",
      "Uploaded void_100.npy, microstructure to MongoDB\n",
      "Uploaded void_100.npy, velocity_x to MongoDB\n",
      "Uploaded void_100.npy, velocity_y to MongoDB\n",
      "Uploaded void_101.npy, temperature to MongoDB\n",
      "Uploaded void_101.npy, pressure to MongoDB\n",
      "Uploaded void_101.npy, microstructure to MongoDB\n",
      "Uploaded void_101.npy, velocity_x to MongoDB\n",
      "Uploaded void_101.npy, velocity_y to MongoDB\n"
     ]
    }
   ],
   "source": [
    "import dotenv\n",
    "import os\n",
    "from parc_dash import ParcDash\n",
    "\n",
    "dotenv.load_dotenv()\n",
    "\n",
    "parc= ParcDash()\n",
    "\n",
    "mongo_parc = parc.connect_to_mongo(from_scratch =True)\n",
    "parc.upload_to_mongo()"
   ]
  },
  {
   "cell_type": "code",
   "execution_count": null,
   "metadata": {},
   "outputs": [],
   "source": []
  }
 ],
 "metadata": {
  "kernelspec": {
   "display_name": ".venv",
   "language": "python",
   "name": "python3"
  },
  "language_info": {
   "codemirror_mode": {
    "name": "ipython",
    "version": 3
   },
   "file_extension": ".py",
   "mimetype": "text/x-python",
   "name": "python",
   "nbconvert_exporter": "python",
   "pygments_lexer": "ipython3",
   "version": "3.12.5"
  }
 },
 "nbformat": 4,
 "nbformat_minor": 2
}
